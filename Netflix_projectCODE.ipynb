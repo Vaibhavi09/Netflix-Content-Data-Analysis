{
  "nbformat": 4,
  "nbformat_minor": 0,
  "metadata": {
    "colab": {
      "provenance": [],
      "authorship_tag": "ABX9TyM3YNNCi1VBE6+RXF59Tk76",
      "include_colab_link": true
    },
    "kernelspec": {
      "name": "python3",
      "display_name": "Python 3"
    },
    "language_info": {
      "name": "python"
    }
  },
  "cells": [
    {
      "cell_type": "markdown",
      "metadata": {
        "id": "view-in-github",
        "colab_type": "text"
      },
      "source": [
        "<a href=\"https://colab.research.google.com/github/Vaibhavi09/Netflix-Content-Data-Analysis/blob/main/Netflix_projectCODE.ipynb\" target=\"_parent\"><img src=\"https://colab.research.google.com/assets/colab-badge.svg\" alt=\"Open In Colab\"/></a>"
      ]
    },
    {
      "cell_type": "code",
      "execution_count": null,
      "metadata": {
        "id": "UKdXU9gtK7NN"
      },
      "outputs": [],
      "source": [
        "# Import necessary libraries\n",
        "import pandas as pd\n",
        "import matplotlib.pyplot as plt\n",
        "import seaborn as sns"
      ]
    },
    {
      "cell_type": "code",
      "source": [
        "# Upload the CSV file to Colab\n",
        "from google.colab import files\n",
        "uploaded = files.upload()"
      ],
      "metadata": {
        "colab": {
          "base_uri": "https://localhost:8080/",
          "height": 73
        },
        "id": "6rl26gzDLDyx",
        "outputId": "559efb19-61ad-4d77-fe1d-f75c88e1368c"
      },
      "execution_count": null,
      "outputs": [
        {
          "output_type": "display_data",
          "data": {
            "text/plain": [
              "<IPython.core.display.HTML object>"
            ],
            "text/html": [
              "\n",
              "     <input type=\"file\" id=\"files-4cfee2b1-7493-46c8-9fff-ca4dd3885bd4\" name=\"files[]\" multiple disabled\n",
              "        style=\"border:none\" />\n",
              "     <output id=\"result-4cfee2b1-7493-46c8-9fff-ca4dd3885bd4\">\n",
              "      Upload widget is only available when the cell has been executed in the\n",
              "      current browser session. Please rerun this cell to enable.\n",
              "      </output>\n",
              "      <script>// Copyright 2017 Google LLC\n",
              "//\n",
              "// Licensed under the Apache License, Version 2.0 (the \"License\");\n",
              "// you may not use this file except in compliance with the License.\n",
              "// You may obtain a copy of the License at\n",
              "//\n",
              "//      http://www.apache.org/licenses/LICENSE-2.0\n",
              "//\n",
              "// Unless required by applicable law or agreed to in writing, software\n",
              "// distributed under the License is distributed on an \"AS IS\" BASIS,\n",
              "// WITHOUT WARRANTIES OR CONDITIONS OF ANY KIND, either express or implied.\n",
              "// See the License for the specific language governing permissions and\n",
              "// limitations under the License.\n",
              "\n",
              "/**\n",
              " * @fileoverview Helpers for google.colab Python module.\n",
              " */\n",
              "(function(scope) {\n",
              "function span(text, styleAttributes = {}) {\n",
              "  const element = document.createElement('span');\n",
              "  element.textContent = text;\n",
              "  for (const key of Object.keys(styleAttributes)) {\n",
              "    element.style[key] = styleAttributes[key];\n",
              "  }\n",
              "  return element;\n",
              "}\n",
              "\n",
              "// Max number of bytes which will be uploaded at a time.\n",
              "const MAX_PAYLOAD_SIZE = 100 * 1024;\n",
              "\n",
              "function _uploadFiles(inputId, outputId) {\n",
              "  const steps = uploadFilesStep(inputId, outputId);\n",
              "  const outputElement = document.getElementById(outputId);\n",
              "  // Cache steps on the outputElement to make it available for the next call\n",
              "  // to uploadFilesContinue from Python.\n",
              "  outputElement.steps = steps;\n",
              "\n",
              "  return _uploadFilesContinue(outputId);\n",
              "}\n",
              "\n",
              "// This is roughly an async generator (not supported in the browser yet),\n",
              "// where there are multiple asynchronous steps and the Python side is going\n",
              "// to poll for completion of each step.\n",
              "// This uses a Promise to block the python side on completion of each step,\n",
              "// then passes the result of the previous step as the input to the next step.\n",
              "function _uploadFilesContinue(outputId) {\n",
              "  const outputElement = document.getElementById(outputId);\n",
              "  const steps = outputElement.steps;\n",
              "\n",
              "  const next = steps.next(outputElement.lastPromiseValue);\n",
              "  return Promise.resolve(next.value.promise).then((value) => {\n",
              "    // Cache the last promise value to make it available to the next\n",
              "    // step of the generator.\n",
              "    outputElement.lastPromiseValue = value;\n",
              "    return next.value.response;\n",
              "  });\n",
              "}\n",
              "\n",
              "/**\n",
              " * Generator function which is called between each async step of the upload\n",
              " * process.\n",
              " * @param {string} inputId Element ID of the input file picker element.\n",
              " * @param {string} outputId Element ID of the output display.\n",
              " * @return {!Iterable<!Object>} Iterable of next steps.\n",
              " */\n",
              "function* uploadFilesStep(inputId, outputId) {\n",
              "  const inputElement = document.getElementById(inputId);\n",
              "  inputElement.disabled = false;\n",
              "\n",
              "  const outputElement = document.getElementById(outputId);\n",
              "  outputElement.innerHTML = '';\n",
              "\n",
              "  const pickedPromise = new Promise((resolve) => {\n",
              "    inputElement.addEventListener('change', (e) => {\n",
              "      resolve(e.target.files);\n",
              "    });\n",
              "  });\n",
              "\n",
              "  const cancel = document.createElement('button');\n",
              "  inputElement.parentElement.appendChild(cancel);\n",
              "  cancel.textContent = 'Cancel upload';\n",
              "  const cancelPromise = new Promise((resolve) => {\n",
              "    cancel.onclick = () => {\n",
              "      resolve(null);\n",
              "    };\n",
              "  });\n",
              "\n",
              "  // Wait for the user to pick the files.\n",
              "  const files = yield {\n",
              "    promise: Promise.race([pickedPromise, cancelPromise]),\n",
              "    response: {\n",
              "      action: 'starting',\n",
              "    }\n",
              "  };\n",
              "\n",
              "  cancel.remove();\n",
              "\n",
              "  // Disable the input element since further picks are not allowed.\n",
              "  inputElement.disabled = true;\n",
              "\n",
              "  if (!files) {\n",
              "    return {\n",
              "      response: {\n",
              "        action: 'complete',\n",
              "      }\n",
              "    };\n",
              "  }\n",
              "\n",
              "  for (const file of files) {\n",
              "    const li = document.createElement('li');\n",
              "    li.append(span(file.name, {fontWeight: 'bold'}));\n",
              "    li.append(span(\n",
              "        `(${file.type || 'n/a'}) - ${file.size} bytes, ` +\n",
              "        `last modified: ${\n",
              "            file.lastModifiedDate ? file.lastModifiedDate.toLocaleDateString() :\n",
              "                                    'n/a'} - `));\n",
              "    const percent = span('0% done');\n",
              "    li.appendChild(percent);\n",
              "\n",
              "    outputElement.appendChild(li);\n",
              "\n",
              "    const fileDataPromise = new Promise((resolve) => {\n",
              "      const reader = new FileReader();\n",
              "      reader.onload = (e) => {\n",
              "        resolve(e.target.result);\n",
              "      };\n",
              "      reader.readAsArrayBuffer(file);\n",
              "    });\n",
              "    // Wait for the data to be ready.\n",
              "    let fileData = yield {\n",
              "      promise: fileDataPromise,\n",
              "      response: {\n",
              "        action: 'continue',\n",
              "      }\n",
              "    };\n",
              "\n",
              "    // Use a chunked sending to avoid message size limits. See b/62115660.\n",
              "    let position = 0;\n",
              "    do {\n",
              "      const length = Math.min(fileData.byteLength - position, MAX_PAYLOAD_SIZE);\n",
              "      const chunk = new Uint8Array(fileData, position, length);\n",
              "      position += length;\n",
              "\n",
              "      const base64 = btoa(String.fromCharCode.apply(null, chunk));\n",
              "      yield {\n",
              "        response: {\n",
              "          action: 'append',\n",
              "          file: file.name,\n",
              "          data: base64,\n",
              "        },\n",
              "      };\n",
              "\n",
              "      let percentDone = fileData.byteLength === 0 ?\n",
              "          100 :\n",
              "          Math.round((position / fileData.byteLength) * 100);\n",
              "      percent.textContent = `${percentDone}% done`;\n",
              "\n",
              "    } while (position < fileData.byteLength);\n",
              "  }\n",
              "\n",
              "  // All done.\n",
              "  yield {\n",
              "    response: {\n",
              "      action: 'complete',\n",
              "    }\n",
              "  };\n",
              "}\n",
              "\n",
              "scope.google = scope.google || {};\n",
              "scope.google.colab = scope.google.colab || {};\n",
              "scope.google.colab._files = {\n",
              "  _uploadFiles,\n",
              "  _uploadFilesContinue,\n",
              "};\n",
              "})(self);\n",
              "</script> "
            ]
          },
          "metadata": {}
        },
        {
          "output_type": "stream",
          "name": "stdout",
          "text": [
            "Saving netflix_titles (1).xls to netflix_titles (1) (1).xls\n"
          ]
        }
      ]
    },
    {
      "cell_type": "code",
      "source": [
        "df = pd.read_excel(\"/content/netflix_titles (1).xls\")"
      ],
      "metadata": {
        "id": "a9p5IxGkM3iz"
      },
      "execution_count": null,
      "outputs": []
    },
    {
      "cell_type": "code",
      "source": [
        "# Extracting information from the title column to get the country and year\n",
        "df['country'] = df['title'].str.extract(r'\\((.*?)\\)')\n",
        "df['year'] = df['title'].str.extract(r'(\\d{4})')"
      ],
      "metadata": {
        "id": "S6PuRJINNLta"
      },
      "execution_count": null,
      "outputs": []
    },
    {
      "cell_type": "code",
      "source": [
        "# Task 1: Total movies and TV shows by country\n",
        "total_by_country = df.groupby('country')['type'].value_counts().unstack().fillna(0)\n",
        "print(\"Total movies and TV shows by country:\")\n",
        "print(total_by_country)"
      ],
      "metadata": {
        "colab": {
          "base_uri": "https://localhost:8080/"
        },
        "id": "UcmWC5tqNb7r",
        "outputId": "9c0aec7a-cb6e-4e54-a413-cb60315c9984"
      },
      "execution_count": null,
      "outputs": [
        {
          "output_type": "stream",
          "name": "stdout",
          "text": [
            "Total movies and TV shows by country:\n",
            "type                                                Movie  TV Show\n",
            "country                                                           \n",
            "1914-1918                                             1.0      0.0\n",
            "1993                                                  0.0      1.0\n",
            "2009                                                  1.0      1.0\n",
            "2011                                                  0.0      1.0\n",
            "2019                                                  1.0      0.0\n",
            "And All the Beautiful Colours in My Mosaic of M...    1.0      0.0\n",
            "And I Feel Fine                                       1.0      0.0\n",
            "Araromire                                             1.0      0.0\n",
            "At the Time                                           1.0      0.0\n",
            "Bengali Version                                       1.0      0.0\n",
            "Christmas Special                                     1.0      0.0\n",
            "English Version                                       1.0      0.0\n",
            "Extended                                              1.0      0.0\n",
            "Fast                                                  0.0      1.0\n",
            "Halloween Special                                     1.0      0.0\n",
            "Hindi Version                                         4.0      0.0\n",
            "Hitabdut                                              1.0      0.0\n",
            "L                                                     0.0      1.0\n",
            "Love                                                  1.0      0.0\n",
            "Malayalam                                             1.0      0.0\n",
            "Malayalam Version                                     2.0      0.0\n",
            "Mechanic                                              1.0      0.0\n",
            "Mostly                                                1.0      0.0\n",
            "Mother                                                1.0      0.0\n",
            "Mumbai Diaries                                        1.0      0.0\n",
            "New and Selected                                      1.0      0.0\n",
            "Operacion Nen√∫far                                    0.0      1.0\n",
            "Or Your Money Back                                    1.0      0.0\n",
            "Original Series                                       0.0      1.0\n",
            "Past, Present, Future                                 1.0      0.0\n",
            "R                                                     1.0      0.0\n",
            "Seven                                                 0.0      1.0\n",
            "Sovdagari                                             1.0      0.0\n",
            "Spanish Version                                       2.0      0.0\n",
            "T                                                     1.0      0.0\n",
            "TRUE                                                  1.0      0.0\n",
            "Tamil                                                 1.0      0.0\n",
            "Tamil Version                                         4.0      0.0\n",
            "Telugu Version                                        3.0      0.0\n",
            "Tesco Bomber                                          1.0      0.0\n",
            "The Bank Of Luck                                      1.0      0.0\n",
            "The Movie                                             1.0      0.0\n",
            "U.S.                                                  0.0      2.0\n",
            "e                                                     1.0      0.0\n",
            "mostly                                                0.0      1.0\n"
          ]
        }
      ]
    },
    {
      "cell_type": "code",
      "source": [
        "# Task 2: Total movies and TV shows by years\n",
        "total_by_year = df.groupby('year')['type'].value_counts().unstack().fillna(0)\n",
        "print(\"\\nTotal movies and TV shows by years:\")\n",
        "print(total_by_year)"
      ],
      "metadata": {
        "colab": {
          "base_uri": "https://localhost:8080/"
        },
        "id": "-yrXJ366NgVJ",
        "outputId": "72264822-c822-4ce8-f541-8a552d135356"
      },
      "execution_count": null,
      "outputs": [
        {
          "output_type": "stream",
          "name": "stdout",
          "text": [
            "\n",
            "Total movies and TV shows by years:\n",
            "type  Movie  TV Show\n",
            "year                \n",
            "1000    1.0      0.0\n",
            "1897    0.0      1.0\n",
            "1898    1.0      0.0\n",
            "1914    1.0      0.0\n",
            "1939    1.0      0.0\n",
            "1976    1.0      0.0\n",
            "1982    1.0      0.0\n",
            "1984    1.0      0.0\n",
            "1988    0.0      1.0\n",
            "1989    0.0      1.0\n",
            "1993    0.0      1.0\n",
            "1994    0.0      1.0\n",
            "1996    1.0      0.0\n",
            "1997    0.0      1.0\n",
            "2000    0.0      1.0\n",
            "2009    1.0      1.0\n",
            "2011    0.0      1.0\n",
            "2015    1.0      0.0\n",
            "2017    1.0      0.0\n",
            "2018    1.0      0.0\n",
            "2019    1.0      1.0\n",
            "2036    1.0      0.0\n",
            "2050    1.0      0.0\n",
            "2307    1.0      0.0\n",
            "3000    0.0      2.0\n",
            "4400    0.0      1.0\n"
          ]
        }
      ]
    },
    {
      "cell_type": "code",
      "source": [
        "# Task 3: Movies and TV shows distribution by percentage\n",
        "type_distribution = df['type'].value_counts(normalize=True) * 100\n",
        "print(\"\\nMovies and TV shows distribution by percentage:\")\n",
        "print(type_distribution)"
      ],
      "metadata": {
        "colab": {
          "base_uri": "https://localhost:8080/"
        },
        "id": "tzU6WVWjNjSQ",
        "outputId": "72b26af7-2f49-4be6-c113-54eded0ada3f"
      },
      "execution_count": null,
      "outputs": [
        {
          "output_type": "stream",
          "name": "stdout",
          "text": [
            "\n",
            "Movies and TV shows distribution by percentage:\n",
            "Movie      68.415143\n",
            "TV Show    31.584857\n",
            "Name: type, dtype: float64\n"
          ]
        }
      ]
    },
    {
      "cell_type": "code",
      "source": [
        "# Description of selected movie/TV show\n",
        "selected_show = df[df['title'] == 'Norm of the North: King Sized Adventure']\n",
        "print(\"\\nDescription of selected movie/TV show:\")\n",
        "print(selected_show)"
      ],
      "metadata": {
        "colab": {
          "base_uri": "https://localhost:8080/"
        },
        "id": "889KSfZfOVzQ",
        "outputId": "2b1637b9-7dad-43a1-cabc-6fcc9f48b42e"
      },
      "execution_count": null,
      "outputs": [
        {
          "output_type": "stream",
          "name": "stdout",
          "text": [
            "\n",
            "Description of selected movie/TV show:\n",
            "    show_id   type                                    title  \\\n",
            "0  81145628  Movie  Norm of the North: King Sized Adventure   \n",
            "\n",
            "                   director  \\\n",
            "0  Richard Finn, Tim Maltby   \n",
            "\n",
            "                                                cast country  \\\n",
            "0  Alan Marriott, Andrew Toth, Brian Dobson, Cole...     NaN   \n",
            "\n",
            "          date_added  release_year rating duration  \\\n",
            "0  September 9, 2019          2019  TV-PG   90 min   \n",
            "\n",
            "                            listed_in  \\\n",
            "0  Children & Family Movies, Comedies   \n",
            "\n",
            "                                         description year  \n",
            "0  Before planning an awesome wedding for his gra...  NaN  \n"
          ]
        }
      ]
    }
  ]
}